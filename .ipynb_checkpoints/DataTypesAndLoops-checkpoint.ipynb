{
 "cells": [
  {
   "cell_type": "markdown",
   "id": "3ae53b8b-4119-4edf-8d91-0cc9e9572931",
   "metadata": {},
   "source": [
    "# Задание 1"
   ]
  },
  {
   "cell_type": "code",
   "execution_count": 25,
   "id": "d4a2b275-ead6-46e0-8ff2-e4fd1c55e6cc",
   "metadata": {},
   "outputs": [
    {
     "name": "stdin",
     "output_type": "stream",
     "text": [
      "Введите слово Testing\n"
     ]
    },
    {
     "name": "stdout",
     "output_type": "stream",
     "text": [
      "t\n"
     ]
    }
   ],
   "source": [
    "word = input('Введите слово')\n",
    "\n",
    "lngth = len(word)\n",
    "print(word[int(lngth/2) - 1 : int(lngth/2) + 1] if lngth%2 == 0 else word[int(lngth/2)])"
   ]
  },
  {
   "cell_type": "markdown",
   "id": "1c3a139b-67e1-42fe-aea2-0d153b44f115",
   "metadata": {},
   "source": [
    "# Задание 2"
   ]
  },
  {
   "cell_type": "code",
   "execution_count": 82,
   "id": "9911e97b-4027-4650-bfdd-3146a762aa29",
   "metadata": {},
   "outputs": [
    {
     "name": "stdin",
     "output_type": "stream",
     "text": [
      "Введите число:  1\n",
      "Введите число:  4\n",
      "Введите число:  6\n",
      "Введите число:  0\n"
     ]
    },
    {
     "name": "stdout",
     "output_type": "stream",
     "text": [
      "Результат: 11\n"
     ]
    }
   ],
   "source": [
    "sumary = 0\n",
    "num = -1\n",
    "\n",
    "while num != 0:\n",
    "    num = int(input('Введите число: '))\n",
    "    sumary += num\n",
    "\n",
    "print(f'Результат: {sumary}')"
   ]
  },
  {
   "cell_type": "markdown",
   "id": "6914d6ac-9255-4c0f-80ec-452dfaffdc45",
   "metadata": {},
   "source": [
    "# Задание 3"
   ]
  },
  {
   "cell_type": "code",
   "execution_count": 62,
   "id": "66490be0-4597-42f9-839e-0fc14140baec",
   "metadata": {},
   "outputs": [],
   "source": [
    "boys = ['Peter', 'Alex', 'John', 'Arthur', 'Richard']\n",
    "girls = ['Kate', 'Liza', 'Kira', 'Emma', 'Trisha']\n",
    "\n",
    "#boys = ['Peter', 'Alex', 'John', 'Arthur', 'Richard', 'Michael']\n",
    "#girls = ['Kate', 'Liza', 'Kira', 'Emma', 'Trisha']"
   ]
  },
  {
   "cell_type": "code",
   "execution_count": 63,
   "id": "8b75b9e6-8f70-494e-8002-db2af513df81",
   "metadata": {},
   "outputs": [
    {
     "name": "stdout",
     "output_type": "stream",
     "text": [
      "Идеальные пары:\n",
      "Alex и Emma\n",
      "Arthur и Kate\n",
      "John и Kira\n",
      "Peter и Liza\n",
      "Richard и Trisha\n"
     ]
    }
   ],
   "source": [
    "if len(boys) != len(girls):\n",
    "    print('Внимание, кто-то может остаться без пары!')\n",
    "else:\n",
    "    couples = zip(sorted(boys), sorted(girls))\n",
    "    print('Идеальные пары:')\n",
    "    for couple in couples:\n",
    "        print(f'{list(couple)[0]} и {list(couple)[1]}')"
   ]
  },
  {
   "cell_type": "markdown",
   "id": "df8cb86a-dad8-4001-a885-6c996609ba4b",
   "metadata": {},
   "source": [
    "# Задание 4"
   ]
  },
  {
   "cell_type": "code",
   "execution_count": 3,
   "id": "7aa7e023-6420-48f5-8c49-f2f5533fc1c1",
   "metadata": {},
   "outputs": [],
   "source": [
    "countries_temperature = [\n",
    "    ['Таиланд', [75.2, 77, 78.8, 73.4, 68, 75.2, 77]],\n",
    "    ['Германия', [57.2, 55.4, 59, 59, 53.6]],\n",
    "    ['Россия', [35.6, 37.4, 39.2, 41, 42.8, 39.2, 35.6]],\n",
    "    ['Польша', [50, 50, 53.6, 57.2, 55.4, 55.4]]\n",
    "]"
   ]
  },
  {
   "cell_type": "code",
   "execution_count": 8,
   "id": "b0f18014-f79e-494f-8ef9-35458c863482",
   "metadata": {},
   "outputs": [
    {
     "name": "stdout",
     "output_type": "stream",
     "text": [
      "Средняя температура в странах:\n",
      "Таиланд - 23.9\n",
      "Германия - 13.8\n",
      "Россия - 3.7\n",
      "Польша - 12.0\n"
     ]
    }
   ],
   "source": [
    "print('Средняя температура в странах:')\n",
    "for country_temp in countries_temperature:\n",
    "    print(f'{country_temp[0]} - {round((sum(country_temp[1]) / len(country_temp[1]) - 32) * 5/9, 1)}')"
   ]
  },
  {
   "cell_type": "markdown",
   "id": "3891b9b0-9a83-42ce-af1d-a35163a62be0",
   "metadata": {},
   "source": [
    "# Задание 5"
   ]
  },
  {
   "cell_type": "code",
   "execution_count": 26,
   "id": "03df5f7b-f752-41ad-9871-586560e2d25c",
   "metadata": {},
   "outputs": [],
   "source": [
    "car_ids = ['А222ВС196', 'АБ22ВВ193']"
   ]
  },
  {
   "cell_type": "code",
   "execution_count": 37,
   "id": "a501dc14-bd15-4b27-a00a-06ce3dc1507f",
   "metadata": {},
   "outputs": [
    {
     "name": "stdout",
     "output_type": "stream",
     "text": [
      "Номер А222ВС196 валиден. Регион ['196']\n",
      "Номер АБ22ВВ193 не валиден.\n"
     ]
    }
   ],
   "source": [
    "import re\n",
    "\n",
    "for car_id in car_ids:\n",
    "    if re.match('^[АВЕКМНОРСТУХ]\\d{3}[АВЕКМНОРСТУХ]{2}\\d{2,3}$', car_id):\n",
    "        region = re.findall('\\d{2,3}$', car_id)\n",
    "        print(f'Номер {car_id} валиден. Регион {region}')\n",
    "    else:\n",
    "        print(f'Номер {car_id} не валиден.')"
   ]
  },
  {
   "cell_type": "markdown",
   "id": "9675ba51-c47e-4726-93dc-5b3bbbebf903",
   "metadata": {},
   "source": [
    "# Задание 6"
   ]
  },
  {
   "cell_type": "code",
   "execution_count": 80,
   "id": "6f8a478a-81ac-494f-a65b-298fc914d0d4",
   "metadata": {},
   "outputs": [],
   "source": [
    "stream = [\n",
    "    'user4,2021-01-01;3',\n",
    "    'user3,2022-01-07;4',\n",
    "    'user2,2022-03-29;1',\n",
    "    'user1,2020-04-04;13',\n",
    "    'user2,2022-01-05;7',\n",
    "    'user1,2021-06-14;4',\n",
    "    'user3,2022-07-02;10',\n",
    "    'user4,2021-03-21;19',\n",
    "    'user4,2022-03-22;4',\n",
    "    'user4,2022-04-22;8',\n",
    "    'user4,2021-05-03;9',\n",
    "    'user4,2022-05-11;11'\n",
    "]"
   ]
  },
  {
   "cell_type": "code",
   "execution_count": 81,
   "id": "c8b969dd-ca1f-4968-94a9-830efbbfaf48",
   "metadata": {},
   "outputs": [
    {
     "name": "stdout",
     "output_type": "stream",
     "text": [
      "Среднее количество просмотров на уникального пользователя: 23.25\n"
     ]
    }
   ],
   "source": [
    "users = []\n",
    "looks = 0\n",
    "\n",
    "for el in stream:\n",
    "    user = re.findall('^\\w+,', el)\n",
    "    looks += int(re.findall('\\d+$', el)[0])\n",
    "    if user not in users: users.append(user)\n",
    "\n",
    "print(f'Среднее количество просмотров на уникального пользователя: {round(looks / len(users), 2)}')"
   ]
  }
 ],
 "metadata": {
  "kernelspec": {
   "display_name": "Python 3 (ipykernel)",
   "language": "python",
   "name": "python3"
  },
  "language_info": {
   "codemirror_mode": {
    "name": "ipython",
    "version": 3
   },
   "file_extension": ".py",
   "mimetype": "text/x-python",
   "name": "python",
   "nbconvert_exporter": "python",
   "pygments_lexer": "ipython3",
   "version": "3.11.7"
  }
 },
 "nbformat": 4,
 "nbformat_minor": 5
}
