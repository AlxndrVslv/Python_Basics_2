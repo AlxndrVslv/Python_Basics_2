{
 "cells": [
  {
   "cell_type": "markdown",
   "id": "8eb7a830-13c6-4ebe-8c81-de6b14e771ec",
   "metadata": {},
   "source": [
    "# Задание 1"
   ]
  },
  {
   "cell_type": "code",
   "execution_count": 1,
   "id": "5ca6b769-a1bb-4f12-824a-aa3beb0262ce",
   "metadata": {},
   "outputs": [],
   "source": [
    "import requests"
   ]
  },
  {
   "cell_type": "code",
   "execution_count": 46,
   "id": "b41e2a9d-74a0-4d5c-88ab-17aa5c49d281",
   "metadata": {},
   "outputs": [],
   "source": [
    "def max_rate_currency():\n",
    "    r = requests.get('https://www.cbr-xml-daily.ru/daily_json.js')\n",
    "    \n",
    "    max_rate = 0\n",
    "    max_currency = ''\n",
    "    \n",
    "    for cur_values in r.json()['Valute'].values():\n",
    "        if cur_values['Value'] >= max_rate:\n",
    "            max_rate = cur_values['Value']\n",
    "            max_currency = cur_values['Name']\n",
    "    \n",
    "    return max_currency"
   ]
  },
  {
   "cell_type": "markdown",
   "id": "e6927874-2220-4233-878f-50c95a8e415d",
   "metadata": {},
   "source": [
    "# Задание 2"
   ]
  },
  {
   "cell_type": "code",
   "execution_count": 60,
   "id": "7dcf4485-3ee9-44fe-af0b-d99aa999a28e",
   "metadata": {},
   "outputs": [],
   "source": [
    "# coding: utf-8\n",
    "import requests\n",
    "\n",
    "def my_sum(x, y):\n",
    "    return x+y\n",
    "\n",
    "class Rate:\n",
    "    def __init__(self, format='value', diff = False):\n",
    "        self.format = format\n",
    "        self.diff = diff\n",
    "    \n",
    "    def exchange_rates(self):\n",
    "        \"\"\"\n",
    "        Возвращает ответ сервиса с информацией о валютах в виде:\n",
    "        \n",
    "        {\n",
    "            'AMD': {\n",
    "                'CharCode': 'AMD',\n",
    "                'ID': 'R01060',\n",
    "                'Name': 'Армянских драмов',\n",
    "                'Nominal': 100,\n",
    "                'NumCode': '051',\n",
    "                'Previous': 14.103,\n",
    "                'Value': 14.0879\n",
    "                },\n",
    "            ...\n",
    "        }\n",
    "        \"\"\"\n",
    "        r = requests.get('https://www.cbr-xml-daily.ru/daily_json.js')\n",
    "        return r.json()['Valute']\n",
    "    \n",
    "    def make_format(self, currency):\n",
    "        \"\"\"\n",
    "        Возвращает информацию о валюте currency в двух вариантах:\n",
    "        - полная информация о валюте при self.format = 'full':\n",
    "        Rate('full').make_format('EUR')\n",
    "        {\n",
    "            'CharCode': 'EUR',\n",
    "            'ID': 'R01239',\n",
    "            'Name': 'Евро',\n",
    "            'Nominal': 1,\n",
    "            'NumCode': '978',\n",
    "            'Previous': 79.6765,\n",
    "            'Value': 79.4966\n",
    "        }\n",
    "        \n",
    "        Rate('value').make_format('EUR')\n",
    "        79.4966\n",
    "        \"\"\"\n",
    "        response = self.exchange_rates()\n",
    "        \n",
    "        if currency in response:\n",
    "            if self.format == 'full':\n",
    "                return response[currency]\n",
    "            \n",
    "            if self.format == 'value':\n",
    "                if self.diff:\n",
    "                    return round(response[currency]['Value'] - response[currency]['Previous'], 4)\n",
    "                else:\n",
    "                    return response[currency]['Value']\n",
    "        \n",
    "        return 'Error'\n",
    "    \n",
    "    def eur(self):\n",
    "        \"\"\"Возвращает курс евро на сегодня в формате self.format\"\"\"\n",
    "        return self.make_format('EUR')\n",
    "    \n",
    "    def usd(self):\n",
    "        \"\"\"Возвращает курс доллара на сегодня в формате self.format\"\"\"\n",
    "        return self.make_format('USD')\n",
    "\n",
    "    def AZN(self):\n",
    "        \"\"\"Возвращает курс азербайджанского маната на сегодня в формате self.format\"\"\"\n",
    "        return self.make_format('AZN')"
   ]
  },
  {
   "cell_type": "code",
   "execution_count": 61,
   "id": "71990cba-676c-43ec-a4a4-da078eca8e91",
   "metadata": {},
   "outputs": [],
   "source": [
    "rate = Rate()"
   ]
  },
  {
   "cell_type": "code",
   "execution_count": 62,
   "id": "8fc8ff02-c44b-4b54-8073-34be8a47c5a8",
   "metadata": {},
   "outputs": [
    {
     "data": {
      "text/plain": [
       "95.6624"
      ]
     },
     "execution_count": 62,
     "metadata": {},
     "output_type": "execute_result"
    }
   ],
   "source": [
    "rate.eur()"
   ]
  },
  {
   "cell_type": "code",
   "execution_count": 63,
   "id": "b73852b0-6ae3-428c-a3d9-9aaf2b2f32d7",
   "metadata": {},
   "outputs": [
    {
     "data": {
      "text/plain": [
       "81.5839"
      ]
     },
     "execution_count": 63,
     "metadata": {},
     "output_type": "execute_result"
    }
   ],
   "source": [
    "rate.make_format('RSD')"
   ]
  },
  {
   "cell_type": "code",
   "execution_count": 64,
   "id": "dc950b87-fb6c-4d51-aac0-adb7c70d516e",
   "metadata": {},
   "outputs": [],
   "source": [
    "rate.diff = True"
   ]
  },
  {
   "cell_type": "code",
   "execution_count": 65,
   "id": "33132111-c13d-4912-9447-e177071e5e69",
   "metadata": {},
   "outputs": [
    {
     "data": {
      "text/plain": [
       "0.0924"
      ]
     },
     "execution_count": 65,
     "metadata": {},
     "output_type": "execute_result"
    }
   ],
   "source": [
    "rate.eur()"
   ]
  },
  {
   "cell_type": "code",
   "execution_count": 66,
   "id": "22aaed30-8324-49d9-acb4-83ab25500f61",
   "metadata": {},
   "outputs": [
    {
     "data": {
      "text/plain": [
       "0.0766"
      ]
     },
     "execution_count": 66,
     "metadata": {},
     "output_type": "execute_result"
    }
   ],
   "source": [
    "rate.make_format('RSD')"
   ]
  },
  {
   "cell_type": "code",
   "execution_count": 67,
   "id": "1f2f3e85-df45-4036-b932-f3eafb9a3396",
   "metadata": {},
   "outputs": [],
   "source": [
    "rate.format = 'full'"
   ]
  },
  {
   "cell_type": "code",
   "execution_count": 68,
   "id": "b98da47f-8f76-4477-a1e6-7853e57587ab",
   "metadata": {},
   "outputs": [
    {
     "data": {
      "text/plain": [
       "{'ID': 'R01239',\n",
       " 'NumCode': '978',\n",
       " 'CharCode': 'EUR',\n",
       " 'Nominal': 1,\n",
       " 'Name': 'Евро',\n",
       " 'Value': 95.6624,\n",
       " 'Previous': 95.57}"
      ]
     },
     "execution_count": 68,
     "metadata": {},
     "output_type": "execute_result"
    }
   ],
   "source": [
    "rate.eur()"
   ]
  },
  {
   "cell_type": "code",
   "execution_count": 69,
   "id": "3ff81339-3f22-4128-ab0c-86d3268e44c1",
   "metadata": {},
   "outputs": [
    {
     "data": {
      "text/plain": [
       "{'ID': 'R01805F',\n",
       " 'NumCode': '941',\n",
       " 'CharCode': 'RSD',\n",
       " 'Nominal': 100,\n",
       " 'Name': 'Сербских динаров',\n",
       " 'Value': 81.5839,\n",
       " 'Previous': 81.5073}"
      ]
     },
     "execution_count": 69,
     "metadata": {},
     "output_type": "execute_result"
    }
   ],
   "source": [
    "rate.make_format('RSD')"
   ]
  },
  {
   "cell_type": "markdown",
   "id": "5f43467f-4979-47eb-b6c8-635cef0e0e01",
   "metadata": {},
   "source": [
    "# Задание 3"
   ]
  },
  {
   "cell_type": "code",
   "execution_count": 72,
   "id": "6b3d02c2-a270-4f84-8bf7-43a1c86033cf",
   "metadata": {},
   "outputs": [],
   "source": [
    "class Employee:\n",
    "    def __init__(self, name, seniority):\n",
    "        self.name = name\n",
    "        self.seniority = seniority\n",
    "        \n",
    "        self.grade = 1\n",
    "    \n",
    "    def grade_up(self):\n",
    "        \"\"\"Повышает уровень сотрудника\"\"\"\n",
    "        self.grade += 1\n",
    "    \n",
    "    def publish_grade(self):\n",
    "        \"\"\"Публикация результатов аккредитации сотрудников\"\"\"\n",
    "        print(self.name, self.grade)\n",
    "    \n",
    "    def check_if_it_is_time_for_upgrade(self):\n",
    "        pass"
   ]
  },
  {
   "cell_type": "code",
   "execution_count": 145,
   "id": "f58a43b5-53a0-4e75-a52b-0584bbef5021",
   "metadata": {},
   "outputs": [],
   "source": [
    "class Designer(Employee):\n",
    "    def __init__(self, name, seniority, awards = 2):\n",
    "        super().__init__(name, seniority)\n",
    "        self.awards = awards\n",
    "\n",
    "    def publish_grade(self):\n",
    "        \"\"\"Публикация результатов аккредитации сотрудников\"\"\"\n",
    "        print(f'Плюс 2 балла за каждую из {self.awards} премий; \\\n",
    "плюс {self.seniority} балла(ов). \\\n",
    "Всего {self.awards * 2 + self.seniority} баллов. \\\n",
    "Текущий грейд: {self.grade}')\n",
    "\n",
    "    def check_if_it_is_time_for_upgrade(self):\n",
    "        # для каждой аккредитации увеличиваем счетчик на 1\n",
    "        # пока считаем, что все дизайнеры проходят аккредитацию\n",
    "        self.seniority += 1\n",
    "        \n",
    "        # условие повышения сотрудника из презентации\n",
    "        if (2 * self.awards + self.seniority) % 7 == 0:\n",
    "            self.grade_up()\n",
    "        \n",
    "        # публикация результатов\n",
    "        return self.publish_grade()"
   ]
  },
  {
   "cell_type": "code",
   "execution_count": 146,
   "id": "f87a13ad-366f-4655-a98f-38682e179e8c",
   "metadata": {},
   "outputs": [
    {
     "name": "stdout",
     "output_type": "stream",
     "text": [
      "Плюс 2 балла за каждую из 2 премий; плюс 1 балла(ов). Всего 5 баллов. Текущий грейд: 1\n",
      "Плюс 2 балла за каждую из 2 премий; плюс 2 балла(ов). Всего 6 баллов. Текущий грейд: 1\n",
      "Плюс 2 балла за каждую из 2 премий; плюс 3 балла(ов). Всего 7 баллов. Текущий грейд: 2\n",
      "Плюс 2 балла за каждую из 2 премий; плюс 4 балла(ов). Всего 8 баллов. Текущий грейд: 2\n",
      "Плюс 2 балла за каждую из 2 премий; плюс 5 балла(ов). Всего 9 баллов. Текущий грейд: 2\n",
      "Плюс 2 балла за каждую из 2 премий; плюс 6 балла(ов). Всего 10 баллов. Текущий грейд: 2\n",
      "Плюс 2 балла за каждую из 2 премий; плюс 7 балла(ов). Всего 11 баллов. Текущий грейд: 2\n",
      "Плюс 2 балла за каждую из 2 премий; плюс 8 балла(ов). Всего 12 баллов. Текущий грейд: 2\n",
      "Плюс 2 балла за каждую из 2 премий; плюс 9 балла(ов). Всего 13 баллов. Текущий грейд: 2\n",
      "Плюс 2 балла за каждую из 2 премий; плюс 10 балла(ов). Всего 14 баллов. Текущий грейд: 3\n"
     ]
    }
   ],
   "source": [
    "designer_1 = Designer('person_1', 0)\n",
    "\n",
    "for i in range(10):    \n",
    "    designer_1.check_if_it_is_time_for_upgrade()"
   ]
  },
  {
   "cell_type": "code",
   "execution_count": 147,
   "id": "2364aef5-e433-4e2d-bae0-bed5304b8d1f",
   "metadata": {},
   "outputs": [
    {
     "name": "stdout",
     "output_type": "stream",
     "text": [
      "Плюс 2 балла за каждую из 3 премий; плюс 1 балла(ов). Всего 7 баллов. Текущий грейд: 2\n",
      "Плюс 2 балла за каждую из 3 премий; плюс 2 балла(ов). Всего 8 баллов. Текущий грейд: 2\n",
      "Плюс 2 балла за каждую из 3 премий; плюс 3 балла(ов). Всего 9 баллов. Текущий грейд: 2\n",
      "Плюс 2 балла за каждую из 3 премий; плюс 4 балла(ов). Всего 10 баллов. Текущий грейд: 2\n",
      "Плюс 2 балла за каждую из 3 премий; плюс 5 балла(ов). Всего 11 баллов. Текущий грейд: 2\n",
      "Плюс 2 балла за каждую из 3 премий; плюс 6 балла(ов). Всего 12 баллов. Текущий грейд: 2\n",
      "Плюс 2 балла за каждую из 3 премий; плюс 7 балла(ов). Всего 13 баллов. Текущий грейд: 2\n",
      "Плюс 2 балла за каждую из 3 премий; плюс 8 балла(ов). Всего 14 баллов. Текущий грейд: 3\n",
      "Плюс 2 балла за каждую из 3 премий; плюс 9 балла(ов). Всего 15 баллов. Текущий грейд: 3\n",
      "Плюс 2 балла за каждую из 3 премий; плюс 10 балла(ов). Всего 16 баллов. Текущий грейд: 3\n"
     ]
    }
   ],
   "source": [
    "designer_2 = Designer('person_2', 0, 3)\n",
    "\n",
    "for i in range(10):    \n",
    "    designer_2.check_if_it_is_time_for_upgrade()"
   ]
  }
 ],
 "metadata": {
  "kernelspec": {
   "display_name": "Python 3 (ipykernel)",
   "language": "python",
   "name": "python3"
  },
  "language_info": {
   "codemirror_mode": {
    "name": "ipython",
    "version": 3
   },
   "file_extension": ".py",
   "mimetype": "text/x-python",
   "name": "python",
   "nbconvert_exporter": "python",
   "pygments_lexer": "ipython3",
   "version": "3.11.7"
  }
 },
 "nbformat": 4,
 "nbformat_minor": 5
}
