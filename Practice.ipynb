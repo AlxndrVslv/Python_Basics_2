{
 "cells": [
  {
   "cell_type": "code",
   "execution_count": 51,
   "id": "3a6e5a65-007f-440b-b118-e27daf99b3a8",
   "metadata": {},
   "outputs": [
    {
     "name": "stdout",
     "output_type": "stream",
     "text": [
      "ИТ\n",
      "NFC\n"
     ]
    }
   ],
   "source": [
    "import re\n",
    "\n",
    "def acronym(some_words):\n",
    "    return ''.join([letter.replace(' ', '').upper() for letter in re.findall(r'(^\\w|\\s\\w)', some_words)])\n",
    "\n",
    "print(acronym('Информационные технологии'))\n",
    "print(acronym('Near Field Communication'))"
   ]
  },
  {
   "cell_type": "code",
   "execution_count": 153,
   "id": "a7c0e7e2-5b76-49a1-afa0-652fc0523537",
   "metadata": {},
   "outputs": [
    {
     "name": "stdout",
     "output_type": "stream",
     "text": [
      "gmail.com 2\n",
      "test.in 1\n",
      "ya.ru 2\n",
      "mail.ru 1\n"
     ]
    }
   ],
   "source": [
    "import re\n",
    " \n",
    "emails = ['test@gmail.com', 'xyz@test.in', 'test@ya.ru', 'xyz@mail.ru', 'xyz@ya.ru', 'xyz@gmail.com']\n",
    " \n",
    "def counting(emails: list) -> dict:\n",
    "    dic = {}\n",
    "    for email in emails:\n",
    "        domain = re.search(r'@(\\w+\\.[A-Za-z]+)', email).group(1)\n",
    "        dic.setdefault(domain, 0)\n",
    "        dic[domain] += 1\n",
    "    return dic\n",
    " \n",
    "for k, v in counting(emails).items():\n",
    "    print(k, v)"
   ]
  },
  {
   "cell_type": "code",
   "execution_count": 185,
   "id": "e4f3c0a6-35fe-4d6f-bd3c-564d2dcc2a66",
   "metadata": {},
   "outputs": [
    {
     "name": "stdout",
     "output_type": "stream",
     "text": [
      "Слов на гласные буквы: 9 \n",
      "Слов на согласные буквы: 21\n"
     ]
    }
   ],
   "source": [
    "import re\n",
    " \n",
    "some_text = '''\n",
    "Эталонной реализацией Python является интерпретатор CPython, \n",
    "поддерживающий большинство активно используемых платформ. \n",
    "Он распространяется под свободной лицензией Python Software Foundation License, \n",
    "позволяющей использовать его без ограничений в любых приложениях, включая проприетарные.\n",
    "'''\n",
    "\n",
    "def vowel_cons(some_text: str) -> list:\n",
    "    letters = [letter[0] for letter in re.findall(r'(\\w)\\w*|([А-я])[А-я]*', some_text)]\n",
    "    vowels = len([letter for letter in letters if re.match('[АОУЭЫИЯЕЕЮаоуэыияееюAEIOUYaeiouy]', letter)])\n",
    "    cons = len([letter for letter in letters if re.match('[БВГДЖЗЙКЛМНПРСТФХЦЧШЩбвгджзйклмнпрстфхцчшщBCDFGHJKLMNPQRSTVWXYZbcdfghjklmnpqrstvwxyz]', letter)])\n",
    "    return [vowels, cons]\n",
    " \n",
    "print('Слов на гласные буквы:', vowel_cons(some_text)[0], '\\nСлов на согласные буквы:', vowel_cons(some_text)[1])"
   ]
  }
 ],
 "metadata": {
  "kernelspec": {
   "display_name": "Python 3 (ipykernel)",
   "language": "python",
   "name": "python3"
  },
  "language_info": {
   "codemirror_mode": {
    "name": "ipython",
    "version": 3
   },
   "file_extension": ".py",
   "mimetype": "text/x-python",
   "name": "python",
   "nbconvert_exporter": "python",
   "pygments_lexer": "ipython3",
   "version": "3.11.7"
  }
 },
 "nbformat": 4,
 "nbformat_minor": 5
}
