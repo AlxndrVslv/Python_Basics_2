{
 "cells": [
  {
   "cell_type": "markdown",
   "id": "a9876cc5-c764-4d46-8e1f-70168f5d50a0",
   "metadata": {},
   "source": [
    "# Задание 1"
   ]
  },
  {
   "cell_type": "code",
   "execution_count": 1,
   "id": "e8d9acbf-9585-4fd1-a2f3-5d3ba27cddb9",
   "metadata": {},
   "outputs": [],
   "source": [
    "ids = {'user1': [213, 213, 213, 15, 213], \n",
    "       'user2': [54, 54, 119, 119, 119], \n",
    "       'user3': [213, 98, 98, 35]}"
   ]
  },
  {
   "cell_type": "code",
   "execution_count": 14,
   "id": "53222bef-1e2f-42ed-893d-d7e38b4b5059",
   "metadata": {},
   "outputs": [
    {
     "name": "stdout",
     "output_type": "stream",
     "text": [
      "{98, 35, 15, 213, 54, 119}\n"
     ]
    }
   ],
   "source": [
    "print(set(sum([marks for marks in ids.values()], [])))"
   ]
  },
  {
   "cell_type": "markdown",
   "id": "4285cd33-2fdc-4d16-a1ae-1fc94e39e52a",
   "metadata": {},
   "source": [
    "# Задание 2"
   ]
  },
  {
   "cell_type": "code",
   "execution_count": 56,
   "id": "53788129-d200-4b22-bef1-73d66f3b7d99",
   "metadata": {},
   "outputs": [],
   "source": [
    "queries = [\n",
    "    'смотреть сериалы онлайн',\n",
    "    'новости спорта',\n",
    "    'афиша кино',\n",
    "    'курс доллара',\n",
    "    'сериалы этим летом',\n",
    "    'курс по питону',\n",
    "    'сериалы про спорт',\n",
    "]"
   ]
  },
  {
   "cell_type": "code",
   "execution_count": 55,
   "id": "9e11589d-305b-4b48-b8ea-439258c5a6b4",
   "metadata": {},
   "outputs": [
    {
     "name": "stdout",
     "output_type": "stream",
     "text": [
      "Поисковых запросов, содержащих 3 слов(а): 57.14%\n",
      "Поисковых запросов, содержащих 2 слов(а): 42.86%\n"
     ]
    }
   ],
   "source": [
    "words_cnt = {}\n",
    "\n",
    "for el in queries:\n",
    "    seek_lenght = len(el.split())\n",
    "    words_cnt[seek_lenght] = words_cnt.setdefault(seek_lenght, 0) + 1\n",
    "\n",
    "for words in words_cnt:\n",
    "    words_cnt[words] = words_cnt[words] / len(queries) * 100\n",
    "    print(f'Поисковых запросов, содержащих {words} слов(а): {words_cnt[words]:.2f}%')"
   ]
  },
  {
   "cell_type": "markdown",
   "id": "4213ef56-be44-4df8-abf7-6f42f377b043",
   "metadata": {},
   "source": [
    "# Задание 3"
   ]
  },
  {
   "cell_type": "code",
   "execution_count": 12,
   "id": "bf8b493f-47b3-4598-9554-742376aff401",
   "metadata": {},
   "outputs": [],
   "source": [
    "results = {\n",
    "    'vk': {'revenue': 103, 'cost': 98},\n",
    "    'yandex': {'revenue': 179, 'cost': 153},\n",
    "    'facebook': {'revenue': 103, 'cost': 110},\n",
    "    'adwords': {'revenue': 35, 'cost': 34},\n",
    "    'twitter': {'revenue': 11, 'cost': 24},\n",
    "}"
   ]
  },
  {
   "cell_type": "code",
   "execution_count": 13,
   "id": "feb65e49-0459-4d27-abce-5fc6e20cf18c",
   "metadata": {},
   "outputs": [
    {
     "name": "stdout",
     "output_type": "stream",
     "text": [
      "{'vk': {'revenue': 103, 'cost': 98, 'ROI': 5.1}, 'yandex': {'revenue': 179, 'cost': 153, 'ROI': 16.99}, 'facebook': {'revenue': 103, 'cost': 110, 'ROI': -6.36}, 'adwords': {'revenue': 35, 'cost': 34, 'ROI': 2.94}, 'twitter': {'revenue': 11, 'cost': 24, 'ROI': -54.17}}\n"
     ]
    }
   ],
   "source": [
    "for vals in results.values():\n",
    "    vals['ROI'] = round((vals['revenue'] / vals['cost'] - 1) * 100, 2)\n",
    "print(results)"
   ]
  },
  {
   "cell_type": "markdown",
   "id": "8a48b5c7-7bf7-4952-bb06-e56a7a2ff891",
   "metadata": {},
   "source": [
    "# Задание 4"
   ]
  },
  {
   "cell_type": "code",
   "execution_count": 30,
   "id": "77ca0cf1-3f47-4156-b983-7e020cb5aaef",
   "metadata": {},
   "outputs": [],
   "source": [
    "stats = {'facebook': 55, 'yandex': 115, 'vk': 120, 'google': 99, 'email': 42, 'ok': 98, 'gmail': 120}"
   ]
  },
  {
   "cell_type": "code",
   "execution_count": 39,
   "id": "5a66c262-8042-43b4-af50-1f838dcdec0d",
   "metadata": {},
   "outputs": [
    {
     "name": "stdout",
     "output_type": "stream",
     "text": [
      "Максимальный объем продаж на рекламном(ых) канале(ах): vk, gmail\n"
     ]
    }
   ],
   "source": [
    "max_sells = max(stats.values())\n",
    "print(f\"Максимальный объем продаж на рекламном(ых) канале(ах): {', '.join([company for company in stats if stats[company] == max_sells])}\")"
   ]
  },
  {
   "cell_type": "markdown",
   "id": "481d009c-9ece-4852-a627-0be2c7b78e7c",
   "metadata": {},
   "source": [
    "# Задание 5"
   ]
  },
  {
   "cell_type": "code",
   "execution_count": 40,
   "id": "541d10d0-4077-4a30-a05d-2792cfbf3853",
   "metadata": {},
   "outputs": [],
   "source": [
    "my_list = ['2018-01-01', 'yandex', 'cpc', 100]"
   ]
  },
  {
   "cell_type": "code",
   "execution_count": 113,
   "id": "eba29cf7-56f7-48b4-991b-30a34c255d7e",
   "metadata": {},
   "outputs": [],
   "source": [
    "my_list = ['a', 'b', 'c', 'd', 'e', 'f']"
   ]
  },
  {
   "cell_type": "code",
   "execution_count": 114,
   "id": "15339a61-3b31-40b5-b966-2f98fdcb77e4",
   "metadata": {},
   "outputs": [
    {
     "name": "stdout",
     "output_type": "stream",
     "text": [
      "{'a': {'b': {'c': {'d': {'e': 'f'}}}}}\n"
     ]
    }
   ],
   "source": [
    "d = {}\n",
    "val = my_list[-1]\n",
    "\n",
    "for i in range(2, len(my_list) + 1):\n",
    "    if i > 2: del(d[my_list[-i + 1]])\n",
    "    d[my_list[-i]] = val\n",
    "    val = d.copy()\n",
    "\n",
    "print(d)"
   ]
  },
  {
   "cell_type": "markdown",
   "id": "efe4426b-17db-4301-a786-5b9bc3a15536",
   "metadata": {},
   "source": [
    "# Задание 6"
   ]
  },
  {
   "cell_type": "code",
   "execution_count": 124,
   "id": "c0504ad8-2e3e-457e-838b-64a92e4557c9",
   "metadata": {},
   "outputs": [],
   "source": [
    "cook_book = {\n",
    "  'салат': [\n",
    "     {'ingridient_name': 'сыр', 'quantity': 50, 'measure': 'гр'},\n",
    "     {'ingridient_name': 'томаты', 'quantity': 2, 'measure': 'шт'},\n",
    "     {'ingridient_name': 'огурцы', 'quantity': 20, 'measure': 'гр'},\n",
    "     {'ingridient_name': 'маслины', 'quantity': 10, 'measure': 'гр'},\n",
    "     {'ingridient_name': 'оливковое масло', 'quantity': 20, 'measure': 'мл'},\n",
    "     {'ingridient_name': 'салат', 'quantity': 10, 'measure': 'гр'},\n",
    "     {'ingridient_name': 'перец', 'quantity': 20, 'measure': 'гр'}\n",
    "    ],\n",
    "  'пицца': [\n",
    "     {'ingridient_name': 'сыр', 'quantity': 20, 'measure': 'гр'},\n",
    "     {'ingridient_name': 'колбаса', 'quantity': 30, 'measure': 'гр'},\n",
    "     {'ingridient_name': 'бекон', 'quantity': 30, 'measure': 'гр'},\n",
    "     {'ingridient_name': 'оливки', 'quantity': 10, 'measure': 'гр'},\n",
    "     {'ingridient_name': 'томаты', 'quantity': 20, 'measure': 'гр'},\n",
    "     {'ingridient_name': 'тесто', 'quantity': 100, 'measure': 'гр'},   \n",
    "    ],\n",
    "  'лимонад': [\n",
    "     {'ingridient_name': 'лимон', 'quantity': 1, 'measure': 'шт'},\n",
    "     {'ingridient_name': 'вода', 'quantity': 200, 'measure': 'мл'},\n",
    "     {'ingridient_name': 'сахар', 'quantity': 10, 'measure': 'гр'},\n",
    "     {'ingridient_name': 'лайм', 'quantity': 20, 'measure': 'гр'},    \n",
    "    ]\n",
    "}"
   ]
  },
  {
   "cell_type": "code",
   "execution_count": 125,
   "id": "37120968-e239-4c09-b6c0-219cc8735172",
   "metadata": {},
   "outputs": [
    {
     "name": "stdin",
     "output_type": "stream",
     "text": [
      "Выберите количество порций:  3\n"
     ]
    }
   ],
   "source": [
    "serv_cnt = int(input('Выберите количество порций: '))"
   ]
  },
  {
   "cell_type": "code",
   "execution_count": 135,
   "id": "061d70cb-cce1-44d7-9b32-27dc24607c77",
   "metadata": {},
   "outputs": [
    {
     "name": "stdout",
     "output_type": "stream",
     "text": [
      "Сыр: 210 гр\n",
      "Томаты: 6 шт\n",
      "Томаты: 60 гр\n",
      "Огурцы: 60 гр\n",
      "Маслины: 30 гр\n",
      "Оливковое масло: 60 мл\n",
      "Салат: 30 гр\n",
      "Перец: 60 гр\n",
      "Колбаса: 90 гр\n",
      "Бекон: 90 гр\n",
      "Оливки: 30 гр\n",
      "Тесто: 300 гр\n",
      "Лимон: 3 шт\n",
      "Вода: 600 мл\n",
      "Сахар: 30 гр\n",
      "Лайм: 60 гр\n"
     ]
    }
   ],
   "source": [
    "products = {}\n",
    "for dishes in cook_book.values():\n",
    "    for ingridients in dishes:        \n",
    "        ingridient_name, quantity, measure = ingridients.values()        \n",
    "        if ingridient_name in products.keys() and measure in products[ingridient_name].keys():\n",
    "            products[ingridient_name][measure] += quantity * 3       \n",
    "        else:\n",
    "            products.setdefault(ingridient_name, {measure: quantity * 3}).setdefault(measure, quantity * 3)\n",
    "\n",
    "for product in products.items():\n",
    "    for measure, quantity in product[1].items():\n",
    "        print(f'{product[0].capitalize()}: {quantity} {measure}')"
   ]
  }
 ],
 "metadata": {
  "kernelspec": {
   "display_name": "Python 3 (ipykernel)",
   "language": "python",
   "name": "python3"
  },
  "language_info": {
   "codemirror_mode": {
    "name": "ipython",
    "version": 3
   },
   "file_extension": ".py",
   "mimetype": "text/x-python",
   "name": "python",
   "nbconvert_exporter": "python",
   "pygments_lexer": "ipython3",
   "version": "3.11.7"
  }
 },
 "nbformat": 4,
 "nbformat_minor": 5
}
