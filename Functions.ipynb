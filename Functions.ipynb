{
 "cells": [
  {
   "cell_type": "code",
   "execution_count": 315,
   "id": "3dcc58c7-3ed2-40a5-8f55-f45836d3ea0f",
   "metadata": {},
   "outputs": [],
   "source": [
    "documents = [\n",
    "    {'type': 'passport', 'number': '2207 876234', 'name': 'Василий Гупкин'},\n",
    "    {'type': 'invoice', 'number': '11-2', 'name': 'Геннадий Покемонов'},\n",
    "    {'type': 'insurance', 'number': '10006', 'name': 'Аристарх Павлов'}\n",
    "]\n",
    "directories = {\n",
    "    '1': ['2207 876234', '11-2'],\n",
    "    '2': ['10006'],\n",
    "    '3': []\n",
    "}"
   ]
  },
  {
   "cell_type": "markdown",
   "id": "1bd00581-5c67-418d-9078-e85d272f0f62",
   "metadata": {},
   "source": [
    "# Задание 1"
   ]
  },
  {
   "cell_type": "code",
   "execution_count": 316,
   "id": "d7c7e0ec-a75f-470b-8c20-9a0049db45fe",
   "metadata": {},
   "outputs": [],
   "source": [
    "def f_doc_name(p_documents, doc_num):\n",
    "    '''\n",
    "    Возвращает имя владельца документа по номеру документа\n",
    "    '''\n",
    "    return [doc['name'] for doc in documents if doc['number'] == doc_num]"
   ]
  },
  {
   "cell_type": "code",
   "execution_count": 317,
   "id": "3cc10357-0e76-4d25-ba9c-e4f4f4d3d7bd",
   "metadata": {},
   "outputs": [],
   "source": [
    "def f_dir_num(p_directories, doc_num):\n",
    "    '''\n",
    "    Возвращает номер полки по номеру документа\n",
    "    '''\n",
    "    return [dir for dir, docs in directories.items() if doc_num in docs]"
   ]
  },
  {
   "cell_type": "code",
   "execution_count": 318,
   "id": "74dc7270-5e43-474b-b4f3-bb8cd58f75b6",
   "metadata": {},
   "outputs": [],
   "source": [
    "def dl(p_directories):\n",
    "    '''\n",
    "    Возвращает строку с номерами полок\n",
    "    '''\n",
    "    return ', '.join(list(directories))"
   ]
  },
  {
   "cell_type": "code",
   "execution_count": 319,
   "id": "e8ff6843-125c-4b8f-b1a6-b2b1dfbfafe4",
   "metadata": {},
   "outputs": [],
   "source": [
    "def p(p_documents):\n",
    "    doc_num = input('Введите номер документа: ')\n",
    "    if f_doc_name(documents, doc_num) == []: print('Документ не найден в базе')\n",
    "    else: print(f'Владелец документа: {f_doc_name(documents, doc_num)[0]}')"
   ]
  },
  {
   "cell_type": "code",
   "execution_count": 320,
   "id": "858dad81-b133-4f31-9b4d-5ca79633b9ed",
   "metadata": {},
   "outputs": [],
   "source": [
    "def s(p_directories):\n",
    "    doc_num = input('Введите номер документа: ')\n",
    "    if f_dir_num(directories, doc_num) == []: print('Документ не найден в базе')\n",
    "    else: print(f'Документ хранится на полке: {f_dir_num(directories, doc_num)[0]}')"
   ]
  },
  {
   "cell_type": "code",
   "execution_count": 321,
   "id": "3adcf90f-3bde-4218-9762-5a48b6854d8a",
   "metadata": {},
   "outputs": [],
   "source": [
    "def l(p_documents, p_directories):\n",
    "    for doc in documents:\n",
    "        print(f\"№: {doc['number']}, тип: {doc['type']}, владелец: {doc['name']}, полка хранения: {f_dir_num(directories, doc['number'])[0]}\")"
   ]
  },
  {
   "cell_type": "code",
   "execution_count": 322,
   "id": "b2ad2e59-3420-4448-a0c5-d2f733a151d3",
   "metadata": {},
   "outputs": [],
   "source": [
    "def ads(p_directories):\n",
    "    dir_num = int(input('Введите номер полки: '))\n",
    "    if str(dir_num) not in directories: \n",
    "        directories[str(dir_num)] = []\n",
    "        print(f'Полка добавлена. Текущий перечень полок: {dl(directories)}')\n",
    "    else: print(f'Такая полка уже существует. Текущий перечень полок: {dl(directories)}')"
   ]
  },
  {
   "cell_type": "code",
   "execution_count": 323,
   "id": "7bb2357f-8797-4df8-8cce-c2543aefc2d3",
   "metadata": {},
   "outputs": [],
   "source": [
    "def ds(p_directories):\n",
    "    dir_num = int(input('Введите номер полки: '))\n",
    "    for dir in directories:\n",
    "        if dir == str(dir_num) and directories[dir] == []:\n",
    "            directories.pop(dir)\n",
    "            print(f'Полка удалена. Текущий перечень полок: {dl(directories)}')\n",
    "            return None\n",
    "        elif dir == str(dir_num) and directories[dir] != []:\n",
    "            print(f'На полке есть документы, удалите их перед удалением полки. Текущий перечень полок: {dl(directories)}')\n",
    "            return None\n",
    "    print(f'Такой полки не существует. Текущий перечень полок: {dl(directories)}')"
   ]
  },
  {
   "cell_type": "code",
   "execution_count": 324,
   "id": "59056b13-0254-44a1-8767-94a9e86caf17",
   "metadata": {},
   "outputs": [],
   "source": [
    "def ad(p_documents, p_directories):\n",
    "    doc_num = input('Введите номер документа: ')\n",
    "    doc_type = input('Введите тип документа: ')\n",
    "    doc_name = input('Введите владельца документа: ')\n",
    "    dir_num = int(input('Введите полку для хранения: '))\n",
    "    if str(dir_num) in directories:\n",
    "        documents.append({'type': doc_type, 'number': doc_num, 'name': doc_name})\n",
    "        directories[str(dir_num)].append(doc_num)\n",
    "        print('Документ добавлен')\n",
    "    else:\n",
    "        print('Такой полки не существует. Добавьте полку командой ads')\n",
    "    print('Текущий список документов:')\n",
    "    return l(documents, directories)"
   ]
  },
  {
   "cell_type": "code",
   "execution_count": 325,
   "id": "8104bc9d-baf1-44a8-90a7-969583cd858f",
   "metadata": {},
   "outputs": [],
   "source": [
    "def d(p_documents, p_directories):\n",
    "    global documents\n",
    "    global directories\n",
    "    \n",
    "    doc_num = input('Введите номер документа: ')\n",
    "    \n",
    "    documents_corr = []\n",
    "    is_found = False\n",
    "    \n",
    "    for doc in documents:        \n",
    "        if doc['number'] != doc_num:\n",
    "            documents_corr.append(doc)\n",
    "        else:\n",
    "             # Если документ найден в documents, то нужно удалить его из directories\n",
    "             # Иначе не имеет смысла в лишнем цикле по directories\n",
    "            is_found = True\n",
    "            for dir, docs in directories.items():\n",
    "                if doc_num in docs:\n",
    "                    directories[dir].remove(doc_num)\n",
    "\n",
    "    documents = documents_corr.copy()\n",
    "    documents_corr.clear()\n",
    "\n",
    "    if is_found: print('Документ удален.')\n",
    "    else: print('Документ не найден в базе.')\n",
    "    \n",
    "    print('Текущий список документов: ')        \n",
    "    l(documents, directories)\n"
   ]
  },
  {
   "cell_type": "code",
   "execution_count": 331,
   "id": "6f57b8df-6371-4178-8b1f-4213f4f755c9",
   "metadata": {},
   "outputs": [],
   "source": [
    "def m(p_directories):\n",
    "    global directories\n",
    "    \n",
    "    doc_num = input('Введите номер документа: ')\n",
    "    dir_num = int(input('Введите номер полки: '))\n",
    "    \n",
    "    if f_dir_num(directories, doc_num) != [] and str(dir_num) in directories:        \n",
    "        directories[f_dir_num(directories, doc_num)[0]].remove(doc_num)\n",
    "        directories[str(dir_num)].append(doc_num)\n",
    "        print('Документ перемещен.')\n",
    "        print('Текущий список документов:')\n",
    "        return l(documents, directories)\n",
    "    elif f_dir_num(directories, doc_num) == []:\n",
    "        print('Документ не найден в базе.')\n",
    "        print('Текущий список документов:')\n",
    "        return l(documents, directories)\n",
    "    else: print(f'Такой полки не существует. Текущий перечень полок: {dl(directories)}')"
   ]
  },
  {
   "cell_type": "code",
   "execution_count": 327,
   "id": "207d1689-378f-4213-b599-0ee1def141eb",
   "metadata": {},
   "outputs": [],
   "source": [
    "def main():\n",
    "    command = ''\n",
    "    while command != 'q':\n",
    "        command = input('Введите команду: ')\n",
    "        if command == 'p'    : p(documents)                   # Узнать владельца документа по его номеру\n",
    "        elif command == 's'  : s(directories)                 # По номеру документа узнать на какой полке он хранится\n",
    "        elif command == 'l'  : l(documents, directories)      # Увидеть полную информацию по всем документам\n",
    "        elif command == 'ads': ads(directories)               # Добавить новую полку\n",
    "        elif command == 'ds' : ds(directories)                # Удалить существующую полку из данных (только если она пустая)\n",
    "        elif command == 'ad' : ad(documents, directories)     # Добавить новый документ в данные\n",
    "        elif command == 'd'  : d(documents, directories)      # Удалить документ из данных\n",
    "        elif command == 'm'  : m(directories)                 # Переместить документ с полки на полку\n",
    "        elif command == 'q'  : continue                       # Выход\n",
    "        else: print('Не корректная команда')"
   ]
  },
  {
   "cell_type": "code",
   "execution_count": 333,
   "id": "8c8fc324-46d8-4561-897a-8133be16c3e2",
   "metadata": {},
   "outputs": [
    {
     "name": "stdin",
     "output_type": "stream",
     "text": [
      "Введите команду:  q\n"
     ]
    }
   ],
   "source": [
    "main()"
   ]
  }
 ],
 "metadata": {
  "kernelspec": {
   "display_name": "Python 3 (ipykernel)",
   "language": "python",
   "name": "python3"
  },
  "language_info": {
   "codemirror_mode": {
    "name": "ipython",
    "version": 3
   },
   "file_extension": ".py",
   "mimetype": "text/x-python",
   "name": "python",
   "nbconvert_exporter": "python",
   "pygments_lexer": "ipython3",
   "version": "3.11.7"
  }
 },
 "nbformat": 4,
 "nbformat_minor": 5
}
