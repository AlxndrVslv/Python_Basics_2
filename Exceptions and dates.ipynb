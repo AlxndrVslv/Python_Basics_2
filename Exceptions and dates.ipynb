{
 "cells": [
  {
   "cell_type": "code",
   "execution_count": 11,
   "id": "bb1de901-9699-41ec-93f4-dec375a272cc",
   "metadata": {},
   "outputs": [],
   "source": [
    "from datetime import datetime\n",
    "from datetime import timedelta"
   ]
  },
  {
   "cell_type": "markdown",
   "id": "6d022e24-2cae-4b6f-bb81-70c982f7677f",
   "metadata": {},
   "source": [
    "# Задание 1"
   ]
  },
  {
   "cell_type": "code",
   "execution_count": 2,
   "id": "7e62a6e7-b4da-4ab4-9b29-672302cf0f41",
   "metadata": {},
   "outputs": [],
   "source": [
    "np1 = 'Wednesday, October 2, 2002'\n",
    "np2 = 'Friday, 11.10.13'\n",
    "np3 = 'Thursday, 18 August 1977'"
   ]
  },
  {
   "cell_type": "code",
   "execution_count": 3,
   "id": "8d12405c-429e-480f-bc29-f74644a5cfa7",
   "metadata": {},
   "outputs": [
    {
     "name": "stdout",
     "output_type": "stream",
     "text": [
      "2002-10-02 00:00:00\n",
      "2013-10-11 00:00:00\n",
      "1977-08-18 00:00:00\n"
     ]
    }
   ],
   "source": [
    "np1_date = datetime.strptime(np1, '%A, %B %d, %Y')\n",
    "print(np1_date)\n",
    "np2_date = datetime.strptime(np2, '%A, %d.%m.%y')\n",
    "print(np2_date)\n",
    "np3_date = datetime.strptime(np3, '%A, %d %B %Y')\n",
    "print(np3_date)"
   ]
  },
  {
   "cell_type": "markdown",
   "id": "338ece5f-0e8c-4a15-9b2e-52526c884887",
   "metadata": {},
   "source": [
    "# Задание 2"
   ]
  },
  {
   "cell_type": "code",
   "execution_count": 4,
   "id": "a9caf2dd-b685-4446-aeb7-bc5f2dfd8953",
   "metadata": {},
   "outputs": [],
   "source": [
    "stream = ['2018-04-02', '2018-02-29', '2018-19-02']"
   ]
  },
  {
   "cell_type": "code",
   "execution_count": 5,
   "id": "86f98550-ebfe-4d82-8ced-6e8b792e4bce",
   "metadata": {},
   "outputs": [],
   "source": [
    "def date_correct(dates):\n",
    "    res = []\n",
    "    for dt in dates:\n",
    "        try:\n",
    "            datetime.strptime(dt, '%Y-%m-%d')\n",
    "            res.append(True)\n",
    "        except:\n",
    "            res.append(False)\n",
    "    return res"
   ]
  },
  {
   "cell_type": "code",
   "execution_count": 6,
   "id": "b21d006b-1588-437a-86e7-1910331644fb",
   "metadata": {},
   "outputs": [
    {
     "data": {
      "text/plain": [
       "[True, False, False]"
      ]
     },
     "execution_count": 6,
     "metadata": {},
     "output_type": "execute_result"
    }
   ],
   "source": [
    "date_correct(stream)"
   ]
  },
  {
   "cell_type": "markdown",
   "id": "6ac6c2c5-b031-4491-8508-934ae099c883",
   "metadata": {},
   "source": [
    "# Задание 3"
   ]
  },
  {
   "cell_type": "code",
   "execution_count": 28,
   "id": "9c3f44f6-5309-49b6-b921-57f9e33ec459",
   "metadata": {},
   "outputs": [],
   "source": [
    "def date_range(start_date, end_date):\n",
    "    dr = []\n",
    "    \n",
    "    try:\n",
    "        start_date = datetime.strptime(start_date, '%Y-%m-%d')\n",
    "        end_date = datetime.strptime(end_date, '%Y-%m-%d')\n",
    "    except:\n",
    "        return []\n",
    "    \n",
    "    cur_date = start_date\n",
    "    while cur_date <= end_date:\n",
    "        dr.append(cur_date)\n",
    "        cur_date += timedelta(days = 1)\n",
    "    return dr"
   ]
  },
  {
   "cell_type": "code",
   "execution_count": 30,
   "id": "ce688803-d349-4e32-8eb2-2021844b20ca",
   "metadata": {},
   "outputs": [
    {
     "data": {
      "text/plain": [
       "[datetime.datetime(2024, 7, 1, 0, 0),\n",
       " datetime.datetime(2024, 7, 2, 0, 0),\n",
       " datetime.datetime(2024, 7, 3, 0, 0),\n",
       " datetime.datetime(2024, 7, 4, 0, 0),\n",
       " datetime.datetime(2024, 7, 5, 0, 0)]"
      ]
     },
     "execution_count": 30,
     "metadata": {},
     "output_type": "execute_result"
    }
   ],
   "source": [
    "date_range('2024-07-01', '2024-07-05')"
   ]
  },
  {
   "cell_type": "markdown",
   "id": "3809b6e8-584f-4e57-a8e9-1a785e44e941",
   "metadata": {},
   "source": [
    "# Задание 4"
   ]
  },
  {
   "cell_type": "code",
   "execution_count": 32,
   "id": "682cb890-d8fc-4dc1-a12f-bb68f6b91897",
   "metadata": {},
   "outputs": [],
   "source": [
    "DEFAULT_USER_COUNT = 3\n",
    "\n",
    "def delete_and_return_last_user(region, default_list=['A100', 'A101', 'A102']):\n",
    "    '''\n",
    "    Удаляет из списка default_list последнего пользователя\n",
    "    и возвращает ID нового последнего пользователя.\n",
    "    '''\n",
    "    element_to_delete = default_list[-1]\n",
    "    default_list.remove(element_to_delete)\n",
    "\n",
    "    return default_list[DEFAULT_USER_COUNT-2]\n"
   ]
  },
  {
   "cell_type": "code",
   "execution_count": 33,
   "id": "c34d8075-1876-4998-9cd8-eb5e587cef9e",
   "metadata": {},
   "outputs": [
    {
     "data": {
      "text/plain": [
       "'A101'"
      ]
     },
     "execution_count": 33,
     "metadata": {},
     "output_type": "execute_result"
    }
   ],
   "source": [
    "delete_and_return_last_user(1)"
   ]
  },
  {
   "cell_type": "code",
   "execution_count": 34,
   "id": "93956900-5e4e-4c26-acab-3155d1c36a57",
   "metadata": {},
   "outputs": [
    {
     "ename": "IndexError",
     "evalue": "list index out of range",
     "output_type": "error",
     "traceback": [
      "\u001b[1;31m---------------------------------------------------------------------------\u001b[0m",
      "\u001b[1;31mIndexError\u001b[0m                                Traceback (most recent call last)",
      "Cell \u001b[1;32mIn[34], line 1\u001b[0m\n\u001b[1;32m----> 1\u001b[0m delete_and_return_last_user(\u001b[38;5;241m1\u001b[39m)\n",
      "Cell \u001b[1;32mIn[32], line 11\u001b[0m, in \u001b[0;36mdelete_and_return_last_user\u001b[1;34m(region, default_list)\u001b[0m\n\u001b[0;32m      8\u001b[0m element_to_delete \u001b[38;5;241m=\u001b[39m default_list[\u001b[38;5;241m-\u001b[39m\u001b[38;5;241m1\u001b[39m]\n\u001b[0;32m      9\u001b[0m default_list\u001b[38;5;241m.\u001b[39mremove(element_to_delete)\n\u001b[1;32m---> 11\u001b[0m \u001b[38;5;28;01mreturn\u001b[39;00m default_list[DEFAULT_USER_COUNT\u001b[38;5;241m-\u001b[39m\u001b[38;5;241m2\u001b[39m]\n",
      "\u001b[1;31mIndexError\u001b[0m: list index out of range"
     ]
    }
   ],
   "source": [
    "delete_and_return_last_user(1)"
   ]
  },
  {
   "cell_type": "markdown",
   "id": "1b594320-beb7-44ff-8ebb-27205b4534d9",
   "metadata": {},
   "source": [
    "1. Ошибка \"List index out of range\" означает, что значение индекса элемента списка лежит вне рамок диапазона индексов этого списка;\n",
    "2. Результатом работы функции всегда является элемент списка default_list с индексом 1 (второй по порядку элемент списка). При первом запуске функции удаляется последний элемент списка и остается список из двух значений. Выводится второе. Про повторном запуске функции удаляется еще один последний элемент списка и в списке остается всего одно значение. Соответственно, при попытке возврата второго элемента списка выводится ошибка, т.к. второго элемента уже не существует."
   ]
  }
 ],
 "metadata": {
  "kernelspec": {
   "display_name": "Python 3 (ipykernel)",
   "language": "python",
   "name": "python3"
  },
  "language_info": {
   "codemirror_mode": {
    "name": "ipython",
    "version": 3
   },
   "file_extension": ".py",
   "mimetype": "text/x-python",
   "name": "python",
   "nbconvert_exporter": "python",
   "pygments_lexer": "ipython3",
   "version": "3.11.7"
  }
 },
 "nbformat": 4,
 "nbformat_minor": 5
}
