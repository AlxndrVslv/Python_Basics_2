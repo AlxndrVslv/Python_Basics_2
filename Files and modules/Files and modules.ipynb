{
 "cells": [
  {
   "cell_type": "markdown",
   "id": "87b67846-21f8-4dda-a543-599e507debce",
   "metadata": {},
   "source": [
    "# Задание 1"
   ]
  },
  {
   "cell_type": "code",
   "execution_count": 1,
   "id": "2df7262a-27e0-4f7e-8c71-649e23648bc5",
   "metadata": {},
   "outputs": [],
   "source": [
    "import json"
   ]
  },
  {
   "cell_type": "code",
   "execution_count": 2,
   "id": "de590145-49a1-4f74-a545-296d17ddc34d",
   "metadata": {},
   "outputs": [],
   "source": [
    "purchases = {}\n",
    "\n",
    "with open('purchase_log.txt', encoding = 'utf-8') as f:\n",
    "    next(f) # Пропускаем заголовок\n",
    "    for line in f:\n",
    "        purchases[json.loads(line)['user_id']] = json.loads(line)['category']"
   ]
  },
  {
   "cell_type": "code",
   "execution_count": 12,
   "id": "79bfdd95-8548-4d79-ad72-02d62ec60b0a",
   "metadata": {},
   "outputs": [
    {
     "name": "stdout",
     "output_type": "stream",
     "text": [
      "Досуг\n"
     ]
    }
   ],
   "source": [
    "print(purchases['65f44a2eb7'])"
   ]
  },
  {
   "cell_type": "markdown",
   "id": "a6324e4e-6b97-422f-90e0-d0b75bab971f",
   "metadata": {},
   "source": [
    "# Задание 2"
   ]
  },
  {
   "cell_type": "code",
   "execution_count": 11,
   "id": "cf7679cf-fbf0-4cb7-afde-badffc80ce38",
   "metadata": {},
   "outputs": [],
   "source": [
    "with open('visit_log.csv') as f_visit:\n",
    "    with open('funnel.csv', 'w') as f_funnel:\n",
    "        f_funnel.write(f_visit.readline().strip() + ',category\\n')\n",
    "        for line in f_visit:\n",
    "            if line.split(',')[0] in purchases:\n",
    "                f_funnel.write(line.strip() + ',' + str(purchases.get(line.strip().split(',')[0])) + '\\n')          "
   ]
  }
 ],
 "metadata": {
  "kernelspec": {
   "display_name": "Python 3 (ipykernel)",
   "language": "python",
   "name": "python3"
  },
  "language_info": {
   "codemirror_mode": {
    "name": "ipython",
    "version": 3
   },
   "file_extension": ".py",
   "mimetype": "text/x-python",
   "name": "python",
   "nbconvert_exporter": "python",
   "pygments_lexer": "ipython3",
   "version": "3.11.7"
  }
 },
 "nbformat": 4,
 "nbformat_minor": 5
}
