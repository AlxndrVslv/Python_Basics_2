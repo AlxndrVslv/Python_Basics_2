{
 "cells": [
  {
   "cell_type": "markdown",
   "id": "fb021ef6-6c89-45d4-8779-d9d5a34cb1eb",
   "metadata": {},
   "source": [
    "# Задание 1"
   ]
  },
  {
   "cell_type": "code",
   "execution_count": 6,
   "id": "708da905-8d09-4ce8-a9d3-facbe8b3dca2",
   "metadata": {},
   "outputs": [],
   "source": [
    "phrase_1 = 'Насколько проще было бы писать программы, если бы не заказчики'\n",
    "phrase_2 = 'Насколько проще было бы писать программы, если бы не заказчики'"
   ]
  },
  {
   "cell_type": "code",
   "execution_count": 7,
   "id": "a76b742c-e648-4367-afdb-fe30b04ebdc8",
   "metadata": {},
   "outputs": [
    {
     "name": "stdout",
     "output_type": "stream",
     "text": [
      "Фразы равной длины\n"
     ]
    }
   ],
   "source": [
    "if len(phrase_1) > len(phrase_2):\n",
    "    print('Фраза 1 длиннее фразы 2')\n",
    "elif len(phrase_1) < len(phrase_2):\n",
    "    print('Фраза 2 длиннее фразы 1')\n",
    "else:\n",
    "    print('Фразы равной длины')"
   ]
  },
  {
   "cell_type": "markdown",
   "id": "95f25715-d7a5-4476-b7b7-3f61c0016d9f",
   "metadata": {},
   "source": [
    "# Задание 2"
   ]
  },
  {
   "cell_type": "code",
   "execution_count": 36,
   "id": "309c0508-e1db-474a-aa77-e94f2609456a",
   "metadata": {},
   "outputs": [],
   "source": [
    "year = 1900"
   ]
  },
  {
   "cell_type": "code",
   "execution_count": 37,
   "id": "32f3b0a5-b729-416f-ae2a-e02d1f2a5ba0",
   "metadata": {},
   "outputs": [
    {
     "name": "stdout",
     "output_type": "stream",
     "text": [
      "Не високосный год\n"
     ]
    }
   ],
   "source": [
    "if not(year%400):\n",
    "    print('Високосный год')\n",
    "elif not(year%100):\n",
    "    print('Не високосный год')\n",
    "elif not(year%4):\n",
    "    print('Високосный год')\n",
    "else:\n",
    "    print('Не високосный год')"
   ]
  },
  {
   "cell_type": "markdown",
   "id": "b537ef97-153b-442a-9d21-6f78d17b487a",
   "metadata": {},
   "source": [
    "# Задание 3"
   ]
  },
  {
   "cell_type": "code",
   "execution_count": 42,
   "id": "ceaddf98-49d3-4332-9619-3885dc37b209",
   "metadata": {},
   "outputs": [
    {
     "name": "stdin",
     "output_type": "stream",
     "text": [
      "Введите день:  29\n",
      "Введите месяц:  Октябрь\n"
     ]
    },
    {
     "name": "stdout",
     "output_type": "stream",
     "text": [
      "Ваш знак зодиака: Скорпион\n"
     ]
    }
   ],
   "source": [
    "day = int(input('Введите день: '))\n",
    "month = input('Введите месяц: ')\n",
    "\n",
    "if month == 'Апрель':\n",
    "    if 1 <= day <= 19: print('Ваш знак зодиака: Овен')\n",
    "    elif 20 <= day <= 30: print('Ваш знак зодиака: Телец')\n",
    "    else: print('Не корректная дата')\n",
    "elif month == 'Май':\n",
    "    if 1 <= day <= 20: print('Ваш знак зодиака: Телец')\n",
    "    elif 21 <= day <= 31: print('Ваш знак зодиака: Близецы')\n",
    "    else: print('Не корректная дата')\n",
    "elif month == 'Июнь':\n",
    "    if 1 <= day <= 21: print('Ваш знак зодиака: Близецы')\n",
    "    elif 22 <= day <= 30: print('Ваш знак зодиака: Рак')\n",
    "    else: print('Не корректная дата')\n",
    "elif month == 'Июль':\n",
    "    if 1 <= day <= 22: print('Ваш знак зодиака: Рак')\n",
    "    elif 23 <= day <= 31: print('Ваш знак зодиака: Лев')\n",
    "    else: print('Не корректная дата')\n",
    "elif month == 'Август':\n",
    "    if 1 <= day <= 22: print('Ваш знак зодиака: Лев')\n",
    "    elif 23 <= day <= 31: print('Ваш знак зодиака: Дева')\n",
    "    else: print('Не корректная дата')\n",
    "elif month == 'Сентябрь':\n",
    "    if 1 <= day <= 22: print('Ваш знак зодиака: Дева')\n",
    "    elif 23 <= day <= 30: print('Ваш знак зодиака: Весы')\n",
    "    else: print('Не корректная дата')\n",
    "elif month == 'Октябрь':\n",
    "    if 1 <= day <= 23: print('Ваш знак зодиака: Весы')\n",
    "    elif 24 <= day <= 31: print('Ваш знак зодиака: Скорпион')\n",
    "    else: print('Не корректная дата')\n",
    "elif month == 'Ноябрь':\n",
    "    if 1 <= day <= 21: print('Ваш знак зодиака: Скорпион')\n",
    "    elif 22 <= day <= 30: print('Ваш знак зодиака: Стрелец')\n",
    "    else: print('Не корректная дата')\n",
    "elif month == 'Декабрь':\n",
    "    if 1 <= day <= 21: print('Ваш знак зодиака: Стрелец')\n",
    "    elif 22 <= day <= 31: print('Ваш знак зодиака: Козерог')\n",
    "    else: print('Не корректная дата')\n",
    "elif month == 'Январь':\n",
    "    if 1 <= day <= 20: print('Ваш знак зодиака: Козерог')\n",
    "    elif 21 <= day <= 31: print('Ваш знак зодиака: Водолей')\n",
    "    else: print('Не корректная дата')\n",
    "elif month == 'Февраль':\n",
    "    if 1 <= day <= 20: print('Ваш знак зодиака: Водолей')\n",
    "    elif 21 <= day <= 29: print('Ваш знак зодиака: Рыбы')\n",
    "    else: print('Не корректная дата')\n",
    "elif month == 'Март':\n",
    "    if 1 <= day <= 20: print('Ваш знак зодиака: Рыбы')\n",
    "    elif 21 <= day <= 31: print('Ваш знак зодиака: Овен')\n",
    "    else: print('Не корректная дата')\n",
    "else: print('Не корректный месяц')"
   ]
  },
  {
   "cell_type": "markdown",
   "id": "6fd138d3-ff67-409e-a31e-1370548ca2b7",
   "metadata": {},
   "source": [
    "# Задание 4"
   ]
  },
  {
   "cell_type": "code",
   "execution_count": 49,
   "id": "6c5ceb5b-92f8-48b6-9db6-cfe1452b61d6",
   "metadata": {},
   "outputs": [
    {
     "name": "stdin",
     "output_type": "stream",
     "text": [
      "Widht: 15\n",
      "Length: 15\n",
      "Height: 15\n"
     ]
    },
    {
     "name": "stdout",
     "output_type": "stream",
     "text": [
      "Коробка №1\n"
     ]
    }
   ],
   "source": [
    "width = int(input('Widht:'))\n",
    "lenght = int(input('Length:'))\n",
    "height = int(input('Height:'))\n",
    "\n",
    "if width <= 15 and lenght <= 15 and height <= 15: print('Коробка №1')\n",
    "elif width > 200 or lenght > 200 or height > 200: print('Упаковка для лыж')\n",
    "elif 15 < width < 50 or 15 < lenght < 50 or 15 < height < 50: print('Коробка №2')\n",
    "else: print('Коробка №3')"
   ]
  },
  {
   "cell_type": "markdown",
   "id": "22a59529-576e-4ef4-89d1-f14477e12885",
   "metadata": {},
   "source": [
    "# Задание 5"
   ]
  },
  {
   "cell_type": "code",
   "execution_count": 86,
   "id": "f84ef710-c634-412b-b58d-8fa6c01baa7a",
   "metadata": {},
   "outputs": [
    {
     "name": "stdin",
     "output_type": "stream",
     "text": [
      "Номер билета:  123456\n"
     ]
    },
    {
     "name": "stdout",
     "output_type": "stream",
     "text": [
      "Не счастливый билет\n"
     ]
    }
   ],
   "source": [
    "number = int(input('Номер билета: '))\n",
    "n1 = number // 100000\n",
    "n2 = number // 10000 % 10\n",
    "n3 = number // 1000 % 10\n",
    "n4 = number // 100 % 10\n",
    "n5 = number // 10 % 10\n",
    "n6 = number % 10\n",
    "\n",
    "if len(str(number)) == 6 and (n1 + n2 + n3 == n4 + n5 + n6): print('Счастливый билет')\n",
    "else: print('Не счастливый билет')"
   ]
  },
  {
   "cell_type": "markdown",
   "id": "6699881d-cc93-494c-9f32-3760429614ae",
   "metadata": {},
   "source": [
    "# Задание 6"
   ]
  },
  {
   "cell_type": "code",
   "execution_count": 91,
   "id": "b78b6a67-fa29-4933-be1a-10c0dfb62424",
   "metadata": {},
   "outputs": [
    {
     "name": "stdin",
     "output_type": "stream",
     "text": [
      "Выберите тип фигуры:  Прямоугольник\n",
      "Введите длину стороны A:  10\n",
      "Введите длину стороны B:  25\n"
     ]
    },
    {
     "name": "stdout",
     "output_type": "stream",
     "text": [
      "Площадь прямоугольника равна 250\n"
     ]
    }
   ],
   "source": [
    "import math\n",
    "\n",
    "f_type = input('Выберите тип фигуры: ')\n",
    "\n",
    "if f_type == 'Круг':\n",
    "    r = int(input('Введите радиус круга: '))\n",
    "    print('Площадь круга равна ' + str(round(math.pi * r**2, 2)))\n",
    "elif f_type == 'Треугольник':\n",
    "    s1 = int(input('Введите длину стороны A: '))\n",
    "    s2 = int(input('Введите длину стороны B: '))\n",
    "    s3 = int(input('Введите длину стороны C: '))\n",
    "    p = (s1 + s2 + s3) / 2\n",
    "    print('Площадь треугольника равна ' + str(round((p * (p - s1) * (p - s2) *(p - s3))**0.5, 2)))\n",
    "elif f_type == 'Прямоугольник':\n",
    "    s1 = int(input('Введите длину стороны A: '))\n",
    "    s2 = int(input('Введите длину стороны B: '))\n",
    "    print('Площадь прямоугольника равна ' + str(s1 * s2))"
   ]
  }
 ],
 "metadata": {
  "kernelspec": {
   "display_name": "Python 3 (ipykernel)",
   "language": "python",
   "name": "python3"
  },
  "language_info": {
   "codemirror_mode": {
    "name": "ipython",
    "version": 3
   },
   "file_extension": ".py",
   "mimetype": "text/x-python",
   "name": "python",
   "nbconvert_exporter": "python",
   "pygments_lexer": "ipython3",
   "version": "3.11.7"
  }
 },
 "nbformat": 4,
 "nbformat_minor": 5
}
